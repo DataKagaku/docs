{
 "cells": [
  {
   "cell_type": "markdown",
   "metadata": {
    "colab_type": "text",
    "id": "fTFj8ft5dlbS"
   },
   "source": [
    "##### Copyright 2018 The TensorFlow Authors."
   ]
  },
  {
   "cell_type": "code",
   "execution_count": 0,
   "metadata": {
    "cellView": "form",
    "colab": {
     "autoexec": {
      "startup": false,
      "wait_interval": 0
     }
    },
    "colab_type": "code",
    "id": "lzyBOpYMdp3F"
   },
   "outputs": [],
   "source": [
    "#@title Licensed under the Apache License, Version 2.0 (the \"License\");\n",
    "# you may not use this file except in compliance with the License.\n",
    "# You may obtain a copy of the License at\n",
    "#\n",
    "# https://www.apache.org/licenses/LICENSE-2.0\n",
    "#\n",
    "# Unless required by applicable law or agreed to in writing, software\n",
    "# distributed under the License is distributed on an \"AS IS\" BASIS,\n",
    "# WITHOUT WARRANTIES OR CONDITIONS OF ANY KIND, either express or implied.\n",
    "# See the License for the specific language governing permissions and\n",
    "# limitations under the License."
   ]
  },
  {
   "cell_type": "code",
   "execution_count": 0,
   "metadata": {
    "cellView": "form",
    "colab": {
     "autoexec": {
      "startup": false,
      "wait_interval": 0
     }
    },
    "colab_type": "code",
    "id": "m_x4KfSJ7Vt7"
   },
   "outputs": [],
   "source": [
    "#@title MIT License\n",
    "#\n",
    "# Copyright (c) 2017 François Chollet\n",
    "#\n",
    "# Permission is hereby granted, free of charge, to any person obtaining a\n",
    "# copy of this software and associated documentation files (the \"Software\"),\n",
    "# to deal in the Software without restriction, including without limitation\n",
    "# the rights to use, copy, modify, merge, publish, distribute, sublicense,\n",
    "# and/or sell copies of the Software, and to permit persons to whom the\n",
    "# Software is furnished to do so, subject to the following conditions:\n",
    "#\n",
    "# The above copyright notice and this permission notice shall be included in\n",
    "# all copies or substantial portions of the Software.\n",
    "#\n",
    "# THE SOFTWARE IS PROVIDED \"AS IS\", WITHOUT WARRANTY OF ANY KIND, EXPRESS OR\n",
    "# IMPLIED, INCLUDING BUT NOT LIMITED TO THE WARRANTIES OF MERCHANTABILITY,\n",
    "# FITNESS FOR A PARTICULAR PURPOSE AND NONINFRINGEMENT. IN NO EVENT SHALL\n",
    "# THE AUTHORS OR COPYRIGHT HOLDERS BE LIABLE FOR ANY CLAIM, DAMAGES OR OTHER\n",
    "# LIABILITY, WHETHER IN AN ACTION OF CONTRACT, TORT OR OTHERWISE, ARISING\n",
    "# FROM, OUT OF OR IN CONNECTION WITH THE SOFTWARE OR THE USE OR OTHER\n",
    "# DEALINGS IN THE SOFTWARE."
   ]
  },
  {
   "cell_type": "markdown",
   "metadata": {
    "colab_type": "text",
    "id": "C9HmC2T4ld5B"
   },
   "source": [
    "# Explore overfitting and underfitting"
   ]
  },
  {
   "cell_type": "markdown",
   "metadata": {
    "colab_type": "text",
    "id": "kRTxFhXAlnl1"
   },
   "source": [
    "<table class=\"tfo-notebook-buttons\" align=\"left\">\n",
    "  <td>\n",
    "    <a target=\"_blank\" href=\"https://www.tensorflow.org/tutorials/keras/overfit_and_underfit\"><img src=\"https://www.tensorflow.org/images/tf_logo_32px.png\" />View on TensorFlow.org</a>\n",
    "  </td>\n",
    "  <td>\n",
    "    <a target=\"_blank\" href=\"https://colab.research.google.com/github/tensorflow/docs/blob/master/site/en/tutorials/keras/overfit_and_underfit.ipynb\"><img src=\"https://www.tensorflow.org/images/colab_logo_32px.png\" />Run in Google Colab</a>\n",
    "  </td>\n",
    "  <td>\n",
    "    <a target=\"_blank\" href=\"https://github.com/tensorflow/docs/blob/master/site/en/tutorials/keras/overfit_and_underfit.ipynb\"><img src=\"https://www.tensorflow.org/images/GitHub-Mark-32px.png\" />View source on GitHub</a>\n",
    "  </td>\n",
    "</table>"
   ]
  },
  {
   "cell_type": "markdown",
   "metadata": {
    "colab_type": "text",
    "id": "19rPukKZsPG6"
   },
   "source": [
    "As always, the code in this example will use the `tf.keras` API, which you can learn more about in the TensorFlow [Keras guide](https://www.tensorflow.org/guide/keras).\n",
    "\n",
    "In both of the previous examples—classifying movie reviews, and predicting housing prices—we saw that the accuracy of our model on the validation data would peak after training for a number of epochs, and would then start decreasing. \n",
    "\n",
    "In other words, our model would *overfit* to the training data. Learning how to deal with overfitting is important. Although it's often possible to achieve high accuracy on the *training set*, what we really want is to develop models that generalize well to a *testing data* (or data they haven't seen before).\n",
    "\n",
    "The opposite of overfitting is *underfitting*. Underfitting occurs when there is still room for improvement on the test data. This can happen for a number of reasons: If the model is not powerful enough, is over-regularized, or has simply not been trained long enough. This means the network has not learned the relevant patterns in the training data. \n",
    "\n",
    "If you train for too long though, the model will start to overfit and learn patterns from the training data that don't generalize to the test data. We need to strike a balance. Understanding how to train for an appropriate number of epochs as we'll explore below is a useful skill.\n",
    "\n",
    "To prevent overfitting, the best solution is to use more training data. A model trained on more data will naturally generalize better. When that is no longer possible, the next best solution is to use techniques like regularization. These place constraints on the quantity and type of information your model can store.  If a network can only afford to memorize a small number of patterns, the optimization process will force it to focus on the most prominent patterns, which have a better chance of generalizing well.\n",
    "\n",
    "In this notebook, we'll explore two common regularization techniques—weight regularization and dropout—and use them to improve our IMDB movie review classification notebook."
   ]
  },
  {
   "cell_type": "code",
   "execution_count": 1,
   "metadata": {
    "colab": {
     "autoexec": {
      "startup": false,
      "wait_interval": 0
     }
    },
    "colab_type": "code",
    "id": "5pZ8A2liqvgk"
   },
   "outputs": [
    {
     "name": "stdout",
     "output_type": "stream",
     "text": [
      "1.11.0\n"
     ]
    }
   ],
   "source": [
    "import tensorflow as tf\n",
    "from tensorflow import keras\n",
    "\n",
    "import numpy as np\n",
    "import matplotlib.pyplot as plt\n",
    "\n",
    "print(tf.__version__)"
   ]
  },
  {
   "cell_type": "markdown",
   "metadata": {
    "colab_type": "text",
    "id": "1cweoTiruj8O"
   },
   "source": [
    "## Download the IMDB dataset\n",
    "\n",
    "Rather than using an embedding as in the previous notebook, here we will multi-hot encode the sentences. This model will quickly overfit to the training set. It will be used to demonstrate when overfitting occurs, and how to fight it. \n",
    "\n",
    "Multi-hot-encoding our lists means turning them into vectors of 0s and 1s. Concretely, this would mean for instance turning the sequence  `[3, 5]` into a 10,000-dimensional vector that would be all-zeros except for indices 3 and 5, which would be ones. "
   ]
  },
  {
   "cell_type": "code",
   "execution_count": 2,
   "metadata": {
    "colab": {
     "autoexec": {
      "startup": false,
      "wait_interval": 0
     }
    },
    "colab_type": "code",
    "id": "QpzE4iqZtJly"
   },
   "outputs": [],
   "source": [
    "NUM_WORDS = 10000\n",
    "\n",
    "(train_data, train_labels), (test_data, test_labels) = keras.datasets.imdb.load_data(num_words=NUM_WORDS)\n",
    "\n",
    "def multi_hot_sequences(sequences, dimension):\n",
    "    # Create an all-zero matrix of shape (len(sequences), dimension)\n",
    "    results = np.zeros((len(sequences), dimension))\n",
    "    for i, word_indices in enumerate(sequences):\n",
    "        results[i, word_indices] = 1.0  # set specific indices of results[i] to 1s\n",
    "    return results\n",
    "\n",
    "\n",
    "train_data = multi_hot_sequences(train_data, dimension=NUM_WORDS)\n",
    "test_data = multi_hot_sequences(test_data, dimension=NUM_WORDS)"
   ]
  },
  {
   "cell_type": "markdown",
   "metadata": {
    "colab_type": "text",
    "id": "MzWVeXe3NBTn"
   },
   "source": [
    "Let's look at one of the resulting multi-hot vectors. The word indices are sorted by frequency, so it is expected that there are more 1-values near index zero, as we can see in this plot:"
   ]
  },
  {
   "cell_type": "code",
   "execution_count": 11,
   "metadata": {
    "colab": {
     "autoexec": {
      "startup": false,
      "wait_interval": 0
     }
    },
    "colab_type": "code",
    "id": "71kr5rG4LkGM"
   },
   "outputs": [
    {
     "data": {
      "text/plain": [
       "[<matplotlib.lines.Line2D at 0x5a3b3c8>]"
      ]
     },
     "execution_count": 11,
     "metadata": {},
     "output_type": "execute_result"
    },
    {
     "data": {
      "image/png": "[encoded data removed]",
      "text/plain": [
       "<Figure size 432x288 with 1 Axes>"
      ]
     },
     "metadata": {
      "needs_background": "light"
     },
     "output_type": "display_data"
    }
   ],
   "source": [
    "plt.plot(train_data[0])"
   ]
  },
  {
   "cell_type": "markdown",
   "metadata": {
    "colab_type": "text",
    "id": "lglk41MwvU5o"
   },
   "source": [
    "## Demonstrate overfitting\n",
    "\n",
    "The simplest way to prevent overfitting is to reduce the size of the model, i.e. the number of learnable parameters in the model (which is determined by the number of layers and the number of units per layer). In deep learning, the number of learnable parameters in a model is often referred to as the model's \"capacity\". Intuitively, a model with more parameters will have more \"memorization capacity\" and therefore will be able to easily learn a perfect dictionary-like mapping between training samples and their targets, a mapping without any generalization power, but this would be useless when making predictions on previously unseen data. \n",
    "\n",
    "Always keep this in mind: deep learning models tend to be good at fitting to the training data, but the real challenge is generalization, not fitting.\n",
    "\n",
    "On the other hand, if the network has limited memorization resources, it will not be able to learn the mapping as easily. To minimize its loss, it will have to learn compressed representations that have more predictive power. At the same time, if you make your model too small, it will have difficulty fitting to the training data. There is a balance between \"too much capacity\" and \"not enough capacity\".\n",
    "\n",
    "Unfortunately, there is no magical formula to determine the right size or architecture of your model (in terms of the number of layers, or what the right size for each layer). You will have to experiment using a series of different architectures.\n",
    "\n",
    "To find an appropriate model size, it's best to start with relatively few layers and parameters, then begin increasing the size of the layers or adding new layers until you see diminishing returns on the validation loss. Let's try this on our movie review classification network. \n",
    "\n",
    "We'll create a simple model using only ```Dense``` layers as a baseline, then create smaller and larger versions, and compare them."
   ]
  },
  {
   "cell_type": "markdown",
   "metadata": {
    "colab_type": "text",
    "id": "_ReKHdC2EgVu"
   },
   "source": [
    "### Create a baseline model"
   ]
  },
  {
   "cell_type": "code",
   "execution_count": 12,
   "metadata": {
    "colab": {
     "autoexec": {
      "startup": false,
      "wait_interval": 0
     }
    },
    "colab_type": "code",
    "id": "QKgdXPx9usBa"
   },
   "outputs": [
    {
     "name": "stdout",
     "output_type": "stream",
     "text": [
      "_________________________________________________________________\n",
      "Layer (type)                 Output Shape              Param #   \n",
      "=================================================================\n",
      "dense (Dense)                (None, 16)                160016    \n",
      "_________________________________________________________________\n",
      "dense_1 (Dense)              (None, 16)                272       \n",
      "_________________________________________________________________\n",
      "dense_2 (Dense)              (None, 1)                 17        \n",
      "=================================================================\n",
      "Total params: 160,305\n",
      "Trainable params: 160,305\n",
      "Non-trainable params: 0\n",
      "_________________________________________________________________\n"
     ]
    }
   ],
   "source": [
    "baseline_model = keras.Sequential([\n",
    "    # `input_shape` is only required here so that `.summary` works. \n",
    "    keras.layers.Dense(16, activation=tf.nn.relu, input_shape=(NUM_WORDS,)),\n",
    "    keras.layers.Dense(16, activation=tf.nn.relu),\n",
    "    keras.layers.Dense(1, activation=tf.nn.sigmoid)\n",
    "])\n",
    "\n",
    "baseline_model.compile(optimizer='adam',\n",
    "                       loss='binary_crossentropy',\n",
    "                       metrics=['accuracy', 'binary_crossentropy'])\n",
    "\n",
    "baseline_model.summary()"
   ]
  },
  {
   "cell_type": "code",
   "execution_count": 17,
   "metadata": {
    "colab": {
     "autoexec": {
      "startup": false,
      "wait_interval": 0
     }
    },
    "colab_type": "code",
    "id": "LqG3MXF5xSjR",
    "scrolled": true
   },
   "outputs": [
    {
     "name": "stdout",
     "output_type": "stream",
     "text": [
      "Train on 25000 samples, validate on 25000 samples\n",
      "Epoch 1/20\n",
      " - 4s - loss: 8.3463e-04 - acc: 1.0000 - binary_crossentropy: 8.3463e-04 - val_loss: 0.9406 - val_acc: 0.8528 - val_binary_crossentropy: 0.9406\n",
      "Epoch 2/20\n",
      " - 4s - loss: 7.6335e-04 - acc: 1.0000 - binary_crossentropy: 7.6335e-04 - val_loss: 0.9517 - val_acc: 0.8520 - val_binary_crossentropy: 0.9517\n",
      "Epoch 3/20\n",
      " - 4s - loss: 6.9607e-04 - acc: 1.0000 - binary_crossentropy: 6.9607e-04 - val_loss: 0.9616 - val_acc: 0.8520 - val_binary_crossentropy: 0.9616\n",
      "Epoch 4/20\n",
      " - 4s - loss: 6.3856e-04 - acc: 1.0000 - binary_crossentropy: 6.3856e-04 - val_loss: 0.9687 - val_acc: 0.8524 - val_binary_crossentropy: 0.9687\n",
      "Epoch 5/20\n",
      " - 4s - loss: 5.8883e-04 - acc: 1.0000 - binary_crossentropy: 5.8883e-04 - val_loss: 0.9777 - val_acc: 0.8524 - val_binary_crossentropy: 0.9777\n",
      "Epoch 6/20\n",
      " - 4s - loss: 5.4410e-04 - acc: 1.0000 - binary_crossentropy: 5.4410e-04 - val_loss: 0.9875 - val_acc: 0.8516 - val_binary_crossentropy: 0.9875\n",
      "Epoch 7/20\n",
      " - 4s - loss: 5.0169e-04 - acc: 1.0000 - binary_crossentropy: 5.0169e-04 - val_loss: 0.9938 - val_acc: 0.8521 - val_binary_crossentropy: 0.9938\n",
      "Epoch 8/20\n",
      " - 4s - loss: 4.6464e-04 - acc: 1.0000 - binary_crossentropy: 4.6464e-04 - val_loss: 1.0028 - val_acc: 0.8518 - val_binary_crossentropy: 1.0028\n",
      "Epoch 9/20\n",
      " - 4s - loss: 4.3221e-04 - acc: 1.0000 - binary_crossentropy: 4.3221e-04 - val_loss: 1.0107 - val_acc: 0.8518 - val_binary_crossentropy: 1.0107\n",
      "Epoch 10/20\n",
      " - 4s - loss: 4.0192e-04 - acc: 1.0000 - binary_crossentropy: 4.0192e-04 - val_loss: 1.0184 - val_acc: 0.8516 - val_binary_crossentropy: 1.0184\n",
      "Epoch 11/20\n",
      " - 4s - loss: 3.7455e-04 - acc: 1.0000 - binary_crossentropy: 3.7455e-04 - val_loss: 1.0259 - val_acc: 0.8516 - val_binary_crossentropy: 1.0259\n",
      "Epoch 12/20\n",
      " - 4s - loss: 3.4951e-04 - acc: 1.0000 - binary_crossentropy: 3.4951e-04 - val_loss: 1.0304 - val_acc: 0.8517 - val_binary_crossentropy: 1.0304\n",
      "Epoch 13/20\n",
      " - 4s - loss: 3.2618e-04 - acc: 1.0000 - binary_crossentropy: 3.2618e-04 - val_loss: 1.0377 - val_acc: 0.8517 - val_binary_crossentropy: 1.0377\n",
      "Epoch 14/20\n",
      " - 4s - loss: 3.0548e-04 - acc: 1.0000 - binary_crossentropy: 3.0548e-04 - val_loss: 1.0436 - val_acc: 0.8517 - val_binary_crossentropy: 1.0436\n",
      "Epoch 15/20\n",
      " - 4s - loss: 2.8601e-04 - acc: 1.0000 - binary_crossentropy: 2.8601e-04 - val_loss: 1.0513 - val_acc: 0.8515 - val_binary_crossentropy: 1.0513\n",
      "Epoch 16/20\n",
      " - 4s - loss: 2.6864e-04 - acc: 1.0000 - binary_crossentropy: 2.6864e-04 - val_loss: 1.0557 - val_acc: 0.8514 - val_binary_crossentropy: 1.0557\n",
      "Epoch 17/20\n",
      " - 4s - loss: 2.5256e-04 - acc: 1.0000 - binary_crossentropy: 2.5256e-04 - val_loss: 1.0621 - val_acc: 0.8515 - val_binary_crossentropy: 1.0621\n",
      "Epoch 18/20\n",
      " - 4s - loss: 2.3668e-04 - acc: 1.0000 - binary_crossentropy: 2.3668e-04 - val_loss: 1.0696 - val_acc: 0.8513 - val_binary_crossentropy: 1.0696\n",
      "Epoch 19/20\n",
      " - 4s - loss: 2.2305e-04 - acc: 1.0000 - binary_crossentropy: 2.2305e-04 - val_loss: 1.0736 - val_acc: 0.8514 - val_binary_crossentropy: 1.0736\n",
      "Epoch 20/20\n",
      " - 4s - loss: 2.1043e-04 - acc: 1.0000 - binary_crossentropy: 2.1043e-04 - val_loss: 1.0787 - val_acc: 0.8512 - val_binary_crossentropy: 1.0787\n"
     ]
    }
   ],
   "source": [
    "baseline_history = baseline_model.fit(train_data,\n",
    "                                      train_labels,\n",
    "                                      epochs=20,\n",
    "                                      batch_size=512,\n",
    "                                      validation_data=(test_data, test_labels),\n",
    "                                      verbose=2)"
   ]
  },
  {
   "cell_type": "markdown",
   "metadata": {
    "colab_type": "text",
    "id": "L-DGRBbGxI6G"
   },
   "source": [
    "### Create a smaller model"
   ]
  },
  {
   "cell_type": "markdown",
   "metadata": {
    "colab_type": "text",
    "id": "SrfoVQheYSO5"
   },
   "source": [
    "Let's create a model with less hidden units to compare against the baseline model that we just created:"
   ]
  },
  {
   "cell_type": "code",
   "execution_count": 18,
   "metadata": {
    "colab": {
     "autoexec": {
      "startup": false,
      "wait_interval": 0
     }
    },
    "colab_type": "code",
    "id": "jksi-XtaxDAh"
   },
   "outputs": [
    {
     "name": "stdout",
     "output_type": "stream",
     "text": [
      "_________________________________________________________________\n",
      "Layer (type)                 Output Shape              Param #   \n",
      "=================================================================\n",
      "dense_3 (Dense)              (None, 4)                 40004     \n",
      "_________________________________________________________________\n",
      "dense_4 (Dense)              (None, 4)                 20        \n",
      "_________________________________________________________________\n",
      "dense_5 (Dense)              (None, 1)                 5         \n",
      "=================================================================\n",
      "Total params: 40,029\n",
      "Trainable params: 40,029\n",
      "Non-trainable params: 0\n",
      "_________________________________________________________________\n"
     ]
    }
   ],
   "source": [
    "smaller_model = keras.Sequential([\n",
    "    keras.layers.Dense(4, activation=tf.nn.relu, input_shape=(NUM_WORDS,)),\n",
    "    keras.layers.Dense(4, activation=tf.nn.relu),\n",
    "    keras.layers.Dense(1, activation=tf.nn.sigmoid)\n",
    "])\n",
    "\n",
    "smaller_model.compile(optimizer='adam',\n",
    "                loss='binary_crossentropy',\n",
    "                metrics=['accuracy', 'binary_crossentropy'])\n",
    "\n",
    "smaller_model.summary()"
   ]
  },
  {
   "cell_type": "markdown",
   "metadata": {
    "colab_type": "text",
    "id": "jbngCZliYdma"
   },
   "source": [
    "And train the model using the same data:"
   ]
  },
  {
   "cell_type": "code",
   "execution_count": 19,
   "metadata": {
    "colab": {
     "autoexec": {
      "startup": false,
      "wait_interval": 0
     }
    },
    "colab_type": "code",
    "id": "Ofn1AwDhx-Fe",
    "scrolled": true
   },
   "outputs": [
    {
     "name": "stdout",
     "output_type": "stream",
     "text": [
      "Train on 25000 samples, validate on 25000 samples\n",
      "Epoch 1/20\n",
      " - 4s - loss: 0.6272 - acc: 0.6357 - binary_crossentropy: 0.6272 - val_loss: 0.5717 - val_acc: 0.7494 - val_binary_crossentropy: 0.5717\n",
      "Epoch 2/20\n",
      " - 4s - loss: 0.5228 - acc: 0.8084 - binary_crossentropy: 0.5228 - val_loss: 0.5157 - val_acc: 0.8182 - val_binary_crossentropy: 0.5157\n",
      "Epoch 3/20\n",
      " - 4s - loss: 0.4692 - acc: 0.8652 - binary_crossentropy: 0.4692 - val_loss: 0.4829 - val_acc: 0.8553 - val_binary_crossentropy: 0.4829\n",
      "Epoch 4/20\n",
      " - 4s - loss: 0.4299 - acc: 0.8969 - binary_crossentropy: 0.4299 - val_loss: 0.4605 - val_acc: 0.8714 - val_binary_crossentropy: 0.4605\n",
      "Epoch 5/20\n",
      " - 4s - loss: 0.3981 - acc: 0.9192 - binary_crossentropy: 0.3981 - val_loss: 0.4474 - val_acc: 0.8709 - val_binary_crossentropy: 0.4474\n",
      "Epoch 6/20\n",
      " - 4s - loss: 0.3706 - acc: 0.9323 - binary_crossentropy: 0.3706 - val_loss: 0.4402 - val_acc: 0.8698 - val_binary_crossentropy: 0.4402\n",
      "Epoch 7/20\n",
      " - 4s - loss: 0.3461 - acc: 0.9446 - binary_crossentropy: 0.3461 - val_loss: 0.4290 - val_acc: 0.8784 - val_binary_crossentropy: 0.4290\n",
      "Epoch 8/20\n",
      " - 4s - loss: 0.3246 - acc: 0.9559 - binary_crossentropy: 0.3246 - val_loss: 0.4282 - val_acc: 0.8744 - val_binary_crossentropy: 0.4282\n",
      "Epoch 9/20\n",
      " - 4s - loss: 0.3052 - acc: 0.9633 - binary_crossentropy: 0.3052 - val_loss: 0.4261 - val_acc: 0.8740 - val_binary_crossentropy: 0.4261\n",
      "Epoch 10/20\n",
      " - 4s - loss: 0.2881 - acc: 0.9692 - binary_crossentropy: 0.2881 - val_loss: 0.4254 - val_acc: 0.8748 - val_binary_crossentropy: 0.4254\n",
      "Epoch 11/20\n",
      " - 4s - loss: 0.2728 - acc: 0.9736 - binary_crossentropy: 0.2728 - val_loss: 0.4276 - val_acc: 0.8725 - val_binary_crossentropy: 0.4276\n",
      "Epoch 12/20\n",
      " - 4s - loss: 0.2590 - acc: 0.9769 - binary_crossentropy: 0.2590 - val_loss: 0.4320 - val_acc: 0.8710 - val_binary_crossentropy: 0.4320\n",
      "Epoch 13/20\n",
      " - 4s - loss: 0.2463 - acc: 0.9798 - binary_crossentropy: 0.2463 - val_loss: 0.4361 - val_acc: 0.8699 - val_binary_crossentropy: 0.4361\n",
      "Epoch 14/20\n",
      " - 4s - loss: 0.2343 - acc: 0.9827 - binary_crossentropy: 0.2343 - val_loss: 0.4339 - val_acc: 0.8694 - val_binary_crossentropy: 0.4339\n",
      "Epoch 15/20\n",
      " - 4s - loss: 0.2237 - acc: 0.9845 - binary_crossentropy: 0.2237 - val_loss: 0.4344 - val_acc: 0.8697 - val_binary_crossentropy: 0.4344\n",
      "Epoch 16/20\n",
      " - 4s - loss: 0.2141 - acc: 0.9858 - binary_crossentropy: 0.2141 - val_loss: 0.4408 - val_acc: 0.8681 - val_binary_crossentropy: 0.4408\n",
      "Epoch 17/20\n",
      " - 4s - loss: 0.2049 - acc: 0.9869 - binary_crossentropy: 0.2049 - val_loss: 0.4414 - val_acc: 0.8680 - val_binary_crossentropy: 0.4414\n",
      "Epoch 18/20\n",
      " - 4s - loss: 0.1966 - acc: 0.9880 - binary_crossentropy: 0.1966 - val_loss: 0.4469 - val_acc: 0.8667 - val_binary_crossentropy: 0.4469\n",
      "Epoch 19/20\n",
      " - 4s - loss: 0.1887 - acc: 0.9883 - binary_crossentropy: 0.1887 - val_loss: 0.4572 - val_acc: 0.8655 - val_binary_crossentropy: 0.4572\n",
      "Epoch 20/20\n",
      " - 4s - loss: 0.1814 - acc: 0.9891 - binary_crossentropy: 0.1814 - val_loss: 0.4591 - val_acc: 0.8654 - val_binary_crossentropy: 0.4591\n"
     ]
    }
   ],
   "source": [
    "smaller_history = smaller_model.fit(train_data,\n",
    "                                    train_labels,\n",
    "                                    epochs=20,\n",
    "                                    batch_size=512,\n",
    "                                    validation_data=(test_data, test_labels),\n",
    "                                    verbose=2)"
   ]
  },
  {
   "cell_type": "markdown",
   "metadata": {
    "colab_type": "text",
    "id": "vIPuf23FFaVn"
   },
   "source": [
    "### Create a bigger model\n",
    "\n",
    "As an exercise, you can create an even larger model, and see how quickly it begins overfitting.  Next, let's add to this benchmark a network that has much more capacity, far more than the problem would warrant:"
   ]
  },
  {
   "cell_type": "code",
   "execution_count": 20,
   "metadata": {
    "colab": {
     "autoexec": {
      "startup": false,
      "wait_interval": 0
     }
    },
    "colab_type": "code",
    "id": "ghQwwqwqvQM9"
   },
   "outputs": [
    {
     "name": "stdout",
     "output_type": "stream",
     "text": [
      "_________________________________________________________________\n",
      "Layer (type)                 Output Shape              Param #   \n",
      "=================================================================\n",
      "dense_6 (Dense)              (None, 512)               5120512   \n",
      "_________________________________________________________________\n",
      "dense_7 (Dense)              (None, 512)               262656    \n",
      "_________________________________________________________________\n",
      "dense_8 (Dense)              (None, 1)                 513       \n",
      "=================================================================\n",
      "Total params: 5,383,681\n",
      "Trainable params: 5,383,681\n",
      "Non-trainable params: 0\n",
      "_________________________________________________________________\n"
     ]
    }
   ],
   "source": [
    "bigger_model = keras.models.Sequential([\n",
    "    keras.layers.Dense(512, activation=tf.nn.relu, input_shape=(NUM_WORDS,)),\n",
    "    keras.layers.Dense(512, activation=tf.nn.relu),\n",
    "    keras.layers.Dense(1, activation=tf.nn.sigmoid)\n",
    "])\n",
    "\n",
    "bigger_model.compile(optimizer='adam',\n",
    "                     loss='binary_crossentropy',\n",
    "                     metrics=['accuracy','binary_crossentropy'])\n",
    "\n",
    "bigger_model.summary()"
   ]
  },
  {
   "cell_type": "markdown",
   "metadata": {
    "colab_type": "text",
    "id": "D-d-i5DaYmr7"
   },
   "source": [
    "And, again, train the model using the same data:"
   ]
  },
  {
   "cell_type": "code",
   "execution_count": 22,
   "metadata": {
    "colab": {
     "autoexec": {
      "startup": false,
      "wait_interval": 0
     }
    },
    "colab_type": "code",
    "id": "U1A99dhqvepf",
    "scrolled": true
   },
   "outputs": [
    {
     "name": "stdout",
     "output_type": "stream",
     "text": [
      "Train on 25000 samples, validate on 25000 samples\n",
      "Epoch 1/20\n"
     ]
    },
    {
     "ename": "ResourceExhaustedError",
     "evalue": "OOM when allocating tensor with shape[10000,512] and type float on /job:localhost/replica:0/task:0/device:GPU:0 by allocator GPU_0_bfc\n\t [[{{node training_2/Adam/gradients/dense_6/MatMul_grad/MatMul_1}} = MatMul[T=DT_FLOAT, transpose_a=true, transpose_b=false, _device=\"/job:localhost/replica:0/task:0/device:GPU:0\"](_arg_dense_6_input_0_0/_337, training_2/Adam/gradients/dense_6/Relu_grad/ReluGrad)]]\nHint: If you want to see a list of allocated tensors when OOM happens, add report_tensor_allocations_upon_oom to RunOptions for current allocation info.\n",
     "output_type": "error",
     "traceback": [
      "\u001b[1;31m---------------------------------------------------------------------------\u001b[0m",
      "\u001b[1;31mResourceExhaustedError\u001b[0m                    Traceback (most recent call last)",
      "\u001b[1;32m<ipython-input-22-f1a766b36c26>\u001b[0m in \u001b[0;36m<module>\u001b[1;34m\u001b[0m\n\u001b[0;32m      3\u001b[0m                                   \u001b[0mbatch_size\u001b[0m\u001b[1;33m=\u001b[0m\u001b[1;36m512\u001b[0m\u001b[1;33m,\u001b[0m\u001b[1;33m\u001b[0m\u001b[0m\n\u001b[0;32m      4\u001b[0m                                   \u001b[0mvalidation_data\u001b[0m\u001b[1;33m=\u001b[0m\u001b[1;33m(\u001b[0m\u001b[0mtest_data\u001b[0m\u001b[1;33m,\u001b[0m \u001b[0mtest_labels\u001b[0m\u001b[1;33m)\u001b[0m\u001b[1;33m,\u001b[0m\u001b[1;33m\u001b[0m\u001b[0m\n\u001b[1;32m----> 5\u001b[1;33m                                   verbose=2)\n\u001b[0m",
      "\u001b[1;32mC:\\Programs\\Continuum\\Anaconda3\\envs\\tf_gpu\\lib\\site-packages\\tensorflow\\python\\keras\\engine\\training.py\u001b[0m in \u001b[0;36mfit\u001b[1;34m(self, x, y, batch_size, epochs, verbose, callbacks, validation_split, validation_data, shuffle, class_weight, sample_weight, initial_epoch, steps_per_epoch, validation_steps, **kwargs)\u001b[0m\n\u001b[0;32m   1603\u001b[0m           \u001b[0minitial_epoch\u001b[0m\u001b[1;33m=\u001b[0m\u001b[0minitial_epoch\u001b[0m\u001b[1;33m,\u001b[0m\u001b[1;33m\u001b[0m\u001b[0m\n\u001b[0;32m   1604\u001b[0m           \u001b[0msteps_per_epoch\u001b[0m\u001b[1;33m=\u001b[0m\u001b[0msteps_per_epoch\u001b[0m\u001b[1;33m,\u001b[0m\u001b[1;33m\u001b[0m\u001b[0m\n\u001b[1;32m-> 1605\u001b[1;33m           validation_steps=validation_steps)\n\u001b[0m\u001b[0;32m   1606\u001b[0m \u001b[1;33m\u001b[0m\u001b[0m\n\u001b[0;32m   1607\u001b[0m   def evaluate(self,\n",
      "\u001b[1;32mC:\\Programs\\Continuum\\Anaconda3\\envs\\tf_gpu\\lib\\site-packages\\tensorflow\\python\\keras\\engine\\training_arrays.py\u001b[0m in \u001b[0;36mfit_loop\u001b[1;34m(model, inputs, targets, sample_weights, batch_size, epochs, verbose, callbacks, val_inputs, val_targets, val_sample_weights, shuffle, initial_epoch, steps_per_epoch, validation_steps)\u001b[0m\n\u001b[0;32m    212\u001b[0m           \u001b[0mins_batch\u001b[0m\u001b[1;33m[\u001b[0m\u001b[0mi\u001b[0m\u001b[1;33m]\u001b[0m \u001b[1;33m=\u001b[0m \u001b[0mins_batch\u001b[0m\u001b[1;33m[\u001b[0m\u001b[0mi\u001b[0m\u001b[1;33m]\u001b[0m\u001b[1;33m.\u001b[0m\u001b[0mtoarray\u001b[0m\u001b[1;33m(\u001b[0m\u001b[1;33m)\u001b[0m\u001b[1;33m\u001b[0m\u001b[0m\n\u001b[0;32m    213\u001b[0m \u001b[1;33m\u001b[0m\u001b[0m\n\u001b[1;32m--> 214\u001b[1;33m         \u001b[0mouts\u001b[0m \u001b[1;33m=\u001b[0m \u001b[0mf\u001b[0m\u001b[1;33m(\u001b[0m\u001b[0mins_batch\u001b[0m\u001b[1;33m)\u001b[0m\u001b[1;33m\u001b[0m\u001b[0m\n\u001b[0m\u001b[0;32m    215\u001b[0m         \u001b[1;32mif\u001b[0m \u001b[1;32mnot\u001b[0m \u001b[0misinstance\u001b[0m\u001b[1;33m(\u001b[0m\u001b[0mouts\u001b[0m\u001b[1;33m,\u001b[0m \u001b[0mlist\u001b[0m\u001b[1;33m)\u001b[0m\u001b[1;33m:\u001b[0m\u001b[1;33m\u001b[0m\u001b[0m\n\u001b[0;32m    216\u001b[0m           \u001b[0mouts\u001b[0m \u001b[1;33m=\u001b[0m \u001b[1;33m[\u001b[0m\u001b[0mouts\u001b[0m\u001b[1;33m]\u001b[0m\u001b[1;33m\u001b[0m\u001b[0m\n",
      "\u001b[1;32mC:\\Programs\\Continuum\\Anaconda3\\envs\\tf_gpu\\lib\\site-packages\\tensorflow\\python\\keras\\backend.py\u001b[0m in \u001b[0;36m__call__\u001b[1;34m(self, inputs)\u001b[0m\n\u001b[0;32m   2976\u001b[0m \u001b[1;33m\u001b[0m\u001b[0m\n\u001b[0;32m   2977\u001b[0m     fetched = self._callable_fn(*array_vals,\n\u001b[1;32m-> 2978\u001b[1;33m                                 run_metadata=self.run_metadata)\n\u001b[0m\u001b[0;32m   2979\u001b[0m     \u001b[0mself\u001b[0m\u001b[1;33m.\u001b[0m\u001b[0m_call_fetch_callbacks\u001b[0m\u001b[1;33m(\u001b[0m\u001b[0mfetched\u001b[0m\u001b[1;33m[\u001b[0m\u001b[1;33m-\u001b[0m\u001b[0mlen\u001b[0m\u001b[1;33m(\u001b[0m\u001b[0mself\u001b[0m\u001b[1;33m.\u001b[0m\u001b[0m_fetches\u001b[0m\u001b[1;33m)\u001b[0m\u001b[1;33m:\u001b[0m\u001b[1;33m]\u001b[0m\u001b[1;33m)\u001b[0m\u001b[1;33m\u001b[0m\u001b[0m\n\u001b[0;32m   2980\u001b[0m     \u001b[1;32mreturn\u001b[0m \u001b[0mfetched\u001b[0m\u001b[1;33m[\u001b[0m\u001b[1;33m:\u001b[0m\u001b[0mlen\u001b[0m\u001b[1;33m(\u001b[0m\u001b[0mself\u001b[0m\u001b[1;33m.\u001b[0m\u001b[0moutputs\u001b[0m\u001b[1;33m)\u001b[0m\u001b[1;33m]\u001b[0m\u001b[1;33m\u001b[0m\u001b[0m\n",
      "\u001b[1;32mC:\\Programs\\Continuum\\Anaconda3\\envs\\tf_gpu\\lib\\site-packages\\tensorflow\\python\\client\\session.py\u001b[0m in \u001b[0;36m__call__\u001b[1;34m(self, *args, **kwargs)\u001b[0m\n\u001b[0;32m   1397\u001b[0m           ret = tf_session.TF_SessionRunCallable(\n\u001b[0;32m   1398\u001b[0m               \u001b[0mself\u001b[0m\u001b[1;33m.\u001b[0m\u001b[0m_session\u001b[0m\u001b[1;33m.\u001b[0m\u001b[0m_session\u001b[0m\u001b[1;33m,\u001b[0m \u001b[0mself\u001b[0m\u001b[1;33m.\u001b[0m\u001b[0m_handle\u001b[0m\u001b[1;33m,\u001b[0m \u001b[0margs\u001b[0m\u001b[1;33m,\u001b[0m \u001b[0mstatus\u001b[0m\u001b[1;33m,\u001b[0m\u001b[1;33m\u001b[0m\u001b[0m\n\u001b[1;32m-> 1399\u001b[1;33m               run_metadata_ptr)\n\u001b[0m\u001b[0;32m   1400\u001b[0m         \u001b[1;32mif\u001b[0m \u001b[0mrun_metadata\u001b[0m\u001b[1;33m:\u001b[0m\u001b[1;33m\u001b[0m\u001b[0m\n\u001b[0;32m   1401\u001b[0m           \u001b[0mproto_data\u001b[0m \u001b[1;33m=\u001b[0m \u001b[0mtf_session\u001b[0m\u001b[1;33m.\u001b[0m\u001b[0mTF_GetBuffer\u001b[0m\u001b[1;33m(\u001b[0m\u001b[0mrun_metadata_ptr\u001b[0m\u001b[1;33m)\u001b[0m\u001b[1;33m\u001b[0m\u001b[0m\n",
      "\u001b[1;32mC:\\Programs\\Continuum\\Anaconda3\\envs\\tf_gpu\\lib\\site-packages\\tensorflow\\python\\framework\\errors_impl.py\u001b[0m in \u001b[0;36m__exit__\u001b[1;34m(self, type_arg, value_arg, traceback_arg)\u001b[0m\n\u001b[0;32m    524\u001b[0m             \u001b[1;32mNone\u001b[0m\u001b[1;33m,\u001b[0m \u001b[1;32mNone\u001b[0m\u001b[1;33m,\u001b[0m\u001b[1;33m\u001b[0m\u001b[0m\n\u001b[0;32m    525\u001b[0m             \u001b[0mcompat\u001b[0m\u001b[1;33m.\u001b[0m\u001b[0mas_text\u001b[0m\u001b[1;33m(\u001b[0m\u001b[0mc_api\u001b[0m\u001b[1;33m.\u001b[0m\u001b[0mTF_Message\u001b[0m\u001b[1;33m(\u001b[0m\u001b[0mself\u001b[0m\u001b[1;33m.\u001b[0m\u001b[0mstatus\u001b[0m\u001b[1;33m.\u001b[0m\u001b[0mstatus\u001b[0m\u001b[1;33m)\u001b[0m\u001b[1;33m)\u001b[0m\u001b[1;33m,\u001b[0m\u001b[1;33m\u001b[0m\u001b[0m\n\u001b[1;32m--> 526\u001b[1;33m             c_api.TF_GetCode(self.status.status))\n\u001b[0m\u001b[0;32m    527\u001b[0m     \u001b[1;31m# Delete the underlying status object from memory otherwise it stays alive\u001b[0m\u001b[1;33m\u001b[0m\u001b[1;33m\u001b[0m\u001b[0m\n\u001b[0;32m    528\u001b[0m     \u001b[1;31m# as there is a reference to status from this from the traceback due to\u001b[0m\u001b[1;33m\u001b[0m\u001b[1;33m\u001b[0m\u001b[0m\n",
      "\u001b[1;31mResourceExhaustedError\u001b[0m: OOM when allocating tensor with shape[10000,512] and type float on /job:localhost/replica:0/task:0/device:GPU:0 by allocator GPU_0_bfc\n\t [[{{node training_2/Adam/gradients/dense_6/MatMul_grad/MatMul_1}} = MatMul[T=DT_FLOAT, transpose_a=true, transpose_b=false, _device=\"/job:localhost/replica:0/task:0/device:GPU:0\"](_arg_dense_6_input_0_0/_337, training_2/Adam/gradients/dense_6/Relu_grad/ReluGrad)]]\nHint: If you want to see a list of allocated tensors when OOM happens, add report_tensor_allocations_upon_oom to RunOptions for current allocation info.\n"
     ]
    }
   ],
   "source": [
    "bigger_history = bigger_model.fit(train_data, train_labels,\n",
    "                                  epochs=20,\n",
    "                                  batch_size=512,\n",
    "                                  validation_data=(test_data, test_labels),\n",
    "                                  verbose=2)\n",
    "\n",
    "# Out of memory in office laptop !!!"
   ]
  },
  {
   "cell_type": "markdown",
   "metadata": {
    "colab_type": "text",
    "id": "Fy3CMUZpzH3d"
   },
   "source": [
    "### Plot the training and validation loss\n",
    "\n",
    "<!--TODO(markdaoust): This should be a one-liner with tensorboard -->"
   ]
  },
  {
   "cell_type": "markdown",
   "metadata": {
    "colab_type": "text",
    "id": "HSlo1F4xHuuM"
   },
   "source": [
    "The solid lines show the training loss, and the dashed lines show the validation loss (remember: a lower validation loss indicates a better model). Here, the smaller network begins overfitting later than the baseline model (after 6 epochs rather than 4) and its performance degrades much more slowly once it starts overfitting. "
   ]
  },
  {
   "cell_type": "code",
   "execution_count": 25,
   "metadata": {
    "colab": {
     "autoexec": {
      "startup": false,
      "wait_interval": 0
     }
    },
    "colab_type": "code",
    "id": "0XmKDtOWzOpk"
   },
   "outputs": [
    {
     "data": {
      "image/png": "[encoded data removed]",
      "text/plain": [
       "<Figure size 1152x720 with 1 Axes>"
      ]
     },
     "metadata": {
      "needs_background": "light"
     },
     "output_type": "display_data"
    }
   ],
   "source": [
    "def plot_history(histories, key='binary_crossentropy'):\n",
    "  plt.figure(figsize=(16,10))\n",
    "    \n",
    "  for name, history in histories:\n",
    "    val = plt.plot(history.epoch, history.history['val_'+key],\n",
    "                   '--', label=name.title()+' Val')\n",
    "    plt.plot(history.epoch, history.history[key], color=val[0].get_color(),\n",
    "             label=name.title()+' Train')\n",
    "\n",
    "  plt.xlabel('Epochs')\n",
    "  plt.ylabel(key.replace('_',' ').title())\n",
    "  plt.legend()\n",
    "\n",
    "  plt.xlim([0,max(history.epoch)])\n",
    "\n",
    "\n",
    "plot_history([('baseline', baseline_history),\n",
    "              ('smaller', smaller_history)])#,\n",
    "#               ('bigger', bigger_history)])"
   ]
  },
  {
   "cell_type": "markdown",
   "metadata": {
    "colab_type": "text",
    "id": "Bi6hBhdnSfjA"
   },
   "source": [
    "Notice that the larger network begins overfitting almost right away, after just one epoch, and overfits much more severely. The more capacity the network has, the quicker it will be able to model the training data (resulting in a low training loss), but the more susceptible it is to overfitting (resulting in a large difference between the training and validation loss)."
   ]
  },
  {
   "cell_type": "markdown",
   "metadata": {
    "colab_type": "text",
    "id": "ASdv7nsgEFhx"
   },
   "source": [
    "## Strategies"
   ]
  },
  {
   "cell_type": "markdown",
   "metadata": {
    "colab_type": "text",
    "id": "4rHoVWcswFLa"
   },
   "source": [
    "### Add weight regularization\n",
    "\n"
   ]
  },
  {
   "cell_type": "markdown",
   "metadata": {
    "colab_type": "text",
    "id": "kRxWepNawbBK"
   },
   "source": [
    "You may be familiar with Occam's Razor principle: given two explanations for something, the explanation most likely to be correct is the \"simplest\" one, the one that makes the least amount of assumptions. This also applies to the models learned by neural networks: given some training data and a network architecture, there are multiple sets of weights values (multiple models) that could explain the data, and simpler models are less likely to overfit than complex ones.\n",
    "\n",
    "A \"simple model\" in this context is a model where the distribution of parameter values has less entropy (or a model with fewer parameters altogether, as we saw in the section above). Thus a common way to mitigate overfitting is to put constraints on the complexity of a network by forcing its weights only to take small values, which makes the distribution of weight values more \"regular\". This is called \"weight regularization\", and it is done by adding to the loss function of the network a cost associated with having large weights. This cost comes in two flavors:\n",
    "\n",
    "* L1 regularization, where the cost added is proportional to the absolute value of the weights coefficients (i.e. to what is called the \"L1 norm\" of the weights).\n",
    "\n",
    "* L2 regularization, where the cost added is proportional to the square of the value of the weights coefficients (i.e. to what is called the \"L2 norm\" of the weights). L2 regularization is also called weight decay in the context of neural networks. Don't let the different name confuse you: weight decay is mathematically the exact same as L2 regularization.\n",
    "\n",
    "In `tf.keras`, weight regularization is added by passing weight regularizer instances to layers as keyword arguments. Let's add L2 weight regularization now."
   ]
  },
  {
   "cell_type": "code",
   "execution_count": 26,
   "metadata": {
    "colab": {
     "autoexec": {
      "startup": false,
      "wait_interval": 0
     }
    },
    "colab_type": "code",
    "id": "HFGmcwduwVyQ"
   },
   "outputs": [
    {
     "name": "stdout",
     "output_type": "stream",
     "text": [
      "Train on 25000 samples, validate on 25000 samples\n",
      "Epoch 1/20\n",
      " - 4s - loss: 0.5580 - acc: 0.7862 - binary_crossentropy: 0.5195 - val_loss: 0.4073 - val_acc: 0.8698 - val_binary_crossentropy: 0.3698\n",
      "Epoch 2/20\n",
      " - 4s - loss: 0.3220 - acc: 0.9046 - binary_crossentropy: 0.2805 - val_loss: 0.3344 - val_acc: 0.8878 - val_binary_crossentropy: 0.2898\n",
      "Epoch 3/20\n",
      " - 4s - loss: 0.2587 - acc: 0.9268 - binary_crossentropy: 0.2114 - val_loss: 0.3304 - val_acc: 0.8878 - val_binary_crossentropy: 0.2812\n",
      "Epoch 4/20\n",
      " - 4s - loss: 0.2317 - acc: 0.9391 - binary_crossentropy: 0.1807 - val_loss: 0.3413 - val_acc: 0.8832 - val_binary_crossentropy: 0.2893\n",
      "Epoch 5/20\n",
      " - 4s - loss: 0.2145 - acc: 0.9456 - binary_crossentropy: 0.1613 - val_loss: 0.3511 - val_acc: 0.8810 - val_binary_crossentropy: 0.2970\n",
      "Epoch 6/20\n",
      " - 4s - loss: 0.2027 - acc: 0.9518 - binary_crossentropy: 0.1477 - val_loss: 0.3648 - val_acc: 0.8782 - val_binary_crossentropy: 0.3092\n",
      "Epoch 7/20\n",
      " - 4s - loss: 0.1936 - acc: 0.9538 - binary_crossentropy: 0.1373 - val_loss: 0.3859 - val_acc: 0.8726 - val_binary_crossentropy: 0.3290\n",
      "Epoch 8/20\n",
      " - 4s - loss: 0.1855 - acc: 0.9579 - binary_crossentropy: 0.1282 - val_loss: 0.3917 - val_acc: 0.8734 - val_binary_crossentropy: 0.3340\n",
      "Epoch 9/20\n",
      " - 4s - loss: 0.1795 - acc: 0.9596 - binary_crossentropy: 0.1211 - val_loss: 0.4063 - val_acc: 0.8707 - val_binary_crossentropy: 0.3474\n",
      "Epoch 10/20\n",
      " - 4s - loss: 0.1742 - acc: 0.9616 - binary_crossentropy: 0.1149 - val_loss: 0.4212 - val_acc: 0.8675 - val_binary_crossentropy: 0.3615\n",
      "Epoch 11/20\n",
      " - 4s - loss: 0.1694 - acc: 0.9630 - binary_crossentropy: 0.1093 - val_loss: 0.4358 - val_acc: 0.8667 - val_binary_crossentropy: 0.3753\n",
      "Epoch 12/20\n",
      " - 4s - loss: 0.1650 - acc: 0.9666 - binary_crossentropy: 0.1038 - val_loss: 0.4471 - val_acc: 0.8654 - val_binary_crossentropy: 0.3856\n",
      "Epoch 13/20\n",
      " - 4s - loss: 0.1612 - acc: 0.9680 - binary_crossentropy: 0.0995 - val_loss: 0.4661 - val_acc: 0.8626 - val_binary_crossentropy: 0.4040\n",
      "Epoch 14/20\n",
      " - 4s - loss: 0.1609 - acc: 0.9658 - binary_crossentropy: 0.0982 - val_loss: 0.4757 - val_acc: 0.8614 - val_binary_crossentropy: 0.4126\n",
      "Epoch 15/20\n",
      " - 4s - loss: 0.1546 - acc: 0.9709 - binary_crossentropy: 0.0913 - val_loss: 0.4891 - val_acc: 0.8587 - val_binary_crossentropy: 0.4257\n",
      "Epoch 16/20\n",
      " - 4s - loss: 0.1487 - acc: 0.9732 - binary_crossentropy: 0.0852 - val_loss: 0.5136 - val_acc: 0.8551 - val_binary_crossentropy: 0.4502\n",
      "Epoch 17/20\n",
      " - 4s - loss: 0.1483 - acc: 0.9724 - binary_crossentropy: 0.0846 - val_loss: 0.5175 - val_acc: 0.8584 - val_binary_crossentropy: 0.4533\n",
      "Epoch 18/20\n",
      " - 4s - loss: 0.1492 - acc: 0.9714 - binary_crossentropy: 0.0845 - val_loss: 0.5249 - val_acc: 0.8578 - val_binary_crossentropy: 0.4597\n",
      "Epoch 19/20\n",
      " - 4s - loss: 0.1434 - acc: 0.9743 - binary_crossentropy: 0.0781 - val_loss: 0.5368 - val_acc: 0.8570 - val_binary_crossentropy: 0.4713\n",
      "Epoch 20/20\n",
      " - 4s - loss: 0.1381 - acc: 0.9782 - binary_crossentropy: 0.0727 - val_loss: 0.5439 - val_acc: 0.8560 - val_binary_crossentropy: 0.4786\n"
     ]
    }
   ],
   "source": [
    "l2_model = keras.models.Sequential([\n",
    "    keras.layers.Dense(16, kernel_regularizer=keras.regularizers.l2(0.001),\n",
    "                       activation=tf.nn.relu, input_shape=(NUM_WORDS,)),\n",
    "    keras.layers.Dense(16, kernel_regularizer=keras.regularizers.l2(0.001),\n",
    "                       activation=tf.nn.relu),\n",
    "    keras.layers.Dense(1, activation=tf.nn.sigmoid)\n",
    "])\n",
    "\n",
    "l2_model.compile(optimizer='adam',\n",
    "                 loss='binary_crossentropy',\n",
    "                 metrics=['accuracy', 'binary_crossentropy'])\n",
    "\n",
    "l2_model_history = l2_model.fit(train_data, train_labels,\n",
    "                                epochs=20,\n",
    "                                batch_size=512,\n",
    "                                validation_data=(test_data, test_labels),\n",
    "                                verbose=2)"
   ]
  },
  {
   "cell_type": "markdown",
   "metadata": {
    "colab_type": "text",
    "id": "bUUHoXb7w-_C"
   },
   "source": [
    "```l2(0.001)``` means that every coefficient in the weight matrix of the layer will add ```0.001 * weight_coefficient_value**2``` to the total loss of the network. Note that because this penalty is only added at training time, the loss for this network will be much higher at training than at test time.\n",
    "\n",
    "Here's the impact of our L2 regularization penalty:"
   ]
  },
  {
   "cell_type": "code",
   "execution_count": 27,
   "metadata": {
    "colab": {
     "autoexec": {
      "startup": false,
      "wait_interval": 0
     }
    },
    "colab_type": "code",
    "id": "7wkfLyxBZdh_"
   },
   "outputs": [
    {
     "data": {
      "image/png": "[encoded data removed]",
      "text/plain": [
       "<Figure size 1152x720 with 1 Axes>"
      ]
     },
     "metadata": {
      "needs_background": "light"
     },
     "output_type": "display_data"
    }
   ],
   "source": [
    "plot_history([('baseline', baseline_history),\n",
    "              ('l2', l2_model_history)])"
   ]
  },
  {
   "cell_type": "markdown",
   "metadata": {
    "colab_type": "text",
    "id": "Kx1YHMsVxWjP"
   },
   "source": [
    "As you can see, the L2 regularized model has become much more resistant to overfitting than the baseline model, even though both models have the same number of parameters."
   ]
  },
  {
   "cell_type": "markdown",
   "metadata": {
    "colab_type": "text",
    "id": "HmnBNOOVxiG8"
   },
   "source": [
    "### Add dropout\n",
    "\n",
    "Dropout is one of the most effective and most commonly used regularization techniques for neural networks, developed by Hinton and his students at the University of Toronto. Dropout, applied to a layer, consists of randomly \"dropping out\" (i.e. set to zero) a number of output features of the layer during training. Let's say a given layer would normally have returned a vector [0.2, 0.5, 1.3, 0.8, 1.1] for a given input sample during training; after applying dropout, this vector will have a few zero entries distributed at random, e.g. [0, 0.5, \n",
    "1.3, 0, 1.1]. The \"dropout rate\" is the fraction of the features that are being zeroed-out; it is usually set between 0.2 and 0.5. At test time, no units are dropped out, and instead the layer's output values are scaled down by a factor equal to the dropout rate, so as to balance for the fact that more units are active than at training time.\n",
    "\n",
    "In tf.keras you can introduce dropout in a network via the Dropout layer, which gets applied to the output of layer right before.\n",
    "\n",
    "Let's add two Dropout layers in our IMDB network to see how well they do at reducing overfitting:"
   ]
  },
  {
   "cell_type": "code",
   "execution_count": 28,
   "metadata": {
    "colab": {
     "autoexec": {
      "startup": false,
      "wait_interval": 0
     }
    },
    "colab_type": "code",
    "id": "OFEYvtrHxSWS",
    "scrolled": true
   },
   "outputs": [
    {
     "name": "stdout",
     "output_type": "stream",
     "text": [
      "Train on 25000 samples, validate on 25000 samples\n",
      "Epoch 1/20\n",
      " - 4s - loss: 0.6112 - acc: 0.6612 - binary_crossentropy: 0.6112 - val_loss: 0.4598 - val_acc: 0.8526 - val_binary_crossentropy: 0.4598\n",
      "Epoch 2/20\n",
      " - 4s - loss: 0.4305 - acc: 0.8226 - binary_crossentropy: 0.4305 - val_loss: 0.3193 - val_acc: 0.8840 - val_binary_crossentropy: 0.3193\n",
      "Epoch 3/20\n",
      " - 4s - loss: 0.3338 - acc: 0.8815 - binary_crossentropy: 0.3338 - val_loss: 0.2849 - val_acc: 0.8872 - val_binary_crossentropy: 0.2849\n",
      "Epoch 4/20\n",
      " - 4s - loss: 0.2687 - acc: 0.9090 - binary_crossentropy: 0.2687 - val_loss: 0.2842 - val_acc: 0.8855 - val_binary_crossentropy: 0.2842\n",
      "Epoch 5/20\n",
      " - 4s - loss: 0.2329 - acc: 0.9224 - binary_crossentropy: 0.2329 - val_loss: 0.2802 - val_acc: 0.8877 - val_binary_crossentropy: 0.2802\n",
      "Epoch 6/20\n",
      " - 4s - loss: 0.2004 - acc: 0.9362 - binary_crossentropy: 0.2004 - val_loss: 0.2885 - val_acc: 0.8875 - val_binary_crossentropy: 0.2885\n",
      "Epoch 7/20\n",
      " - 4s - loss: 0.1737 - acc: 0.9441 - binary_crossentropy: 0.1737 - val_loss: 0.3037 - val_acc: 0.8848 - val_binary_crossentropy: 0.3037\n",
      "Epoch 8/20\n",
      " - 4s - loss: 0.1583 - acc: 0.9498 - binary_crossentropy: 0.1583 - val_loss: 0.3279 - val_acc: 0.8825 - val_binary_crossentropy: 0.3279\n",
      "Epoch 9/20\n",
      " - 4s - loss: 0.1372 - acc: 0.9541 - binary_crossentropy: 0.1372 - val_loss: 0.3540 - val_acc: 0.8811 - val_binary_crossentropy: 0.3540\n",
      "Epoch 10/20\n",
      " - 4s - loss: 0.1290 - acc: 0.9578 - binary_crossentropy: 0.1290 - val_loss: 0.3662 - val_acc: 0.8805 - val_binary_crossentropy: 0.3662\n",
      "Epoch 11/20\n",
      " - 4s - loss: 0.1198 - acc: 0.9603 - binary_crossentropy: 0.1198 - val_loss: 0.3828 - val_acc: 0.8785 - val_binary_crossentropy: 0.3828\n",
      "Epoch 12/20\n",
      " - 4s - loss: 0.1063 - acc: 0.9648 - binary_crossentropy: 0.1063 - val_loss: 0.4017 - val_acc: 0.8778 - val_binary_crossentropy: 0.4017\n",
      "Epoch 13/20\n",
      " - 4s - loss: 0.0967 - acc: 0.9685 - binary_crossentropy: 0.0967 - val_loss: 0.4250 - val_acc: 0.8777 - val_binary_crossentropy: 0.4250\n",
      "Epoch 14/20\n",
      " - 4s - loss: 0.0929 - acc: 0.9689 - binary_crossentropy: 0.0929 - val_loss: 0.4482 - val_acc: 0.8780 - val_binary_crossentropy: 0.4482\n",
      "Epoch 15/20\n",
      " - 4s - loss: 0.0871 - acc: 0.9706 - binary_crossentropy: 0.0871 - val_loss: 0.4580 - val_acc: 0.8770 - val_binary_crossentropy: 0.4580\n",
      "Epoch 16/20\n",
      " - 4s - loss: 0.0808 - acc: 0.9742 - binary_crossentropy: 0.0808 - val_loss: 0.4565 - val_acc: 0.8761 - val_binary_crossentropy: 0.4565\n",
      "Epoch 17/20\n",
      " - 4s - loss: 0.0766 - acc: 0.9733 - binary_crossentropy: 0.0766 - val_loss: 0.4969 - val_acc: 0.8769 - val_binary_crossentropy: 0.4969\n",
      "Epoch 18/20\n",
      " - 4s - loss: 0.0719 - acc: 0.9745 - binary_crossentropy: 0.0719 - val_loss: 0.5133 - val_acc: 0.8760 - val_binary_crossentropy: 0.5133\n",
      "Epoch 19/20\n",
      " - 4s - loss: 0.0703 - acc: 0.9757 - binary_crossentropy: 0.0703 - val_loss: 0.5618 - val_acc: 0.8732 - val_binary_crossentropy: 0.5618\n",
      "Epoch 20/20\n",
      " - 4s - loss: 0.0712 - acc: 0.9758 - binary_crossentropy: 0.0712 - val_loss: 0.5491 - val_acc: 0.8741 - val_binary_crossentropy: 0.5491\n"
     ]
    }
   ],
   "source": [
    "dpt_model = keras.models.Sequential([\n",
    "    keras.layers.Dense(16, activation=tf.nn.relu, input_shape=(NUM_WORDS,)),\n",
    "    keras.layers.Dropout(0.5),\n",
    "    keras.layers.Dense(16, activation=tf.nn.relu),\n",
    "    keras.layers.Dropout(0.5),\n",
    "    keras.layers.Dense(1, activation=tf.nn.sigmoid)\n",
    "])\n",
    "\n",
    "dpt_model.compile(optimizer='adam',\n",
    "                  loss='binary_crossentropy',\n",
    "                  metrics=['accuracy','binary_crossentropy'])\n",
    "\n",
    "dpt_model_history = dpt_model.fit(train_data, train_labels,\n",
    "                                  epochs=20,\n",
    "                                  batch_size=512,\n",
    "                                  validation_data=(test_data, test_labels),\n",
    "                                  verbose=2)"
   ]
  },
  {
   "cell_type": "code",
   "execution_count": 29,
   "metadata": {
    "colab": {
     "autoexec": {
      "startup": false,
      "wait_interval": 0
     }
    },
    "colab_type": "code",
    "id": "SPZqwVchx5xp"
   },
   "outputs": [
    {
     "data": {
      "image/png": "[encoded data removed]",
      "text/plain": [
       "<Figure size 1152x720 with 1 Axes>"
      ]
     },
     "metadata": {
      "needs_background": "light"
     },
     "output_type": "display_data"
    }
   ],
   "source": [
    "plot_history([('baseline', baseline_history),\n",
    "              ('dropout', dpt_model_history)])"
   ]
  },
  {
   "cell_type": "markdown",
   "metadata": {
    "colab_type": "text",
    "id": "gjfnkEeQyAFG"
   },
   "source": [
    "Adding dropout is a clear improvement over the baseline model. \n",
    "\n",
    "\n",
    "To recap: here the most common ways to prevent overfitting in neural networks:\n",
    "\n",
    "* Get more training data.\n",
    "* Reduce the capacity of the network.\n",
    "* Add weight regularization.\n",
    "* Add dropout.\n",
    "\n",
    "And two important approaches not covered in this guide are data-augmentation and batch normalization."
   ]
  }
 ],
 "metadata": {
  "accelerator": "GPU",
  "colab": {
   "collapsed_sections": [
    "fTFj8ft5dlbS"
   ],
   "default_view": {},
   "name": "overfit-and-underfit.ipynb",
   "private_outputs": true,
   "provenance": [],
   "toc_visible": true,
   "version": "0.3.2",
   "views": {}
  },
  "kernelspec": {
   "display_name": "Python [conda env:tf_gpu]",
   "language": "python",
   "name": "conda-env-tf_gpu-py"
  },
  "language_info": {
   "codemirror_mode": {
    "name": "ipython",
    "version": 3
   },
   "file_extension": ".py",
   "mimetype": "text/x-python",
   "name": "python",
   "nbconvert_exporter": "python",
   "pygments_lexer": "ipython3",
   "version": "3.6.6"
  }
 },
 "nbformat": 4,
 "nbformat_minor": 1
}
